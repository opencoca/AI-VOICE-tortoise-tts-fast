{
  "cells": [
    {
      "cell_type": "markdown",
      "metadata": {
        "id": "view-in-github",
        "colab_type": "text"
      },
      "source": [
        "<a href=\"https://colab.research.google.com/github/opencoca/tortoise-tts-fast/blob/main/tortoise_tts.ipynb\" target=\"_parent\"><img src=\"https://colab.research.google.com/assets/colab-badge.svg\" alt=\"Open In Colab\"/></a>"
      ]
    },
    {
      "cell_type": "markdown",
      "metadata": {
        "id": "_pIZ3ZXNp7cf"
      },
      "source": [
        "Welcome to Tortoise! 🐢🐢🐢🐢\n",
        "\n",
        "Before you begin, I **strongly** recommend you turn on a GPU runtime.\n",
        "\n",
        "There's a reason this is called \"Tortoise\" - this model takes up to a minute to perform inference for a single sentence on a GPU. Expect waits on the order of hours on a CPU."
      ]
    },
    {
      "cell_type": "code",
      "execution_count": null,
      "metadata": {
        "id": "JrK20I32grP6",
        "cellView": "form"
      },
      "outputs": [],
      "source": [
        "#@markdown Install the project's repo and needed python libs\n",
        "!git clone https://github.com/opencoca/tortoise-tts-fast\n",
        "%cd tortoise-tts-fast\n",
        "!pip3 install -r requirements.txt --no-deps\n",
        "!pip3 install -e .\n",
        "!pip3 install git+https://github.com/152334H/BigVGAN.git"
      ]
    },
    {
      "cell_type": "markdown",
      "metadata": {
        "id": "zRW4p3ftjZ3Y"
      },
      "source": [
        "## **Restart the runtime!**"
      ]
    },
    {
      "cell_type": "code",
      "execution_count": null,
      "metadata": {
        "id": "Gen09NM4hONQ",
        "cellView": "form"
      },
      "outputs": [],
      "source": [
        "#@title # Setup\n",
        "\n",
        "#@markdown Import libraries used through the rest of the notebook.\n",
        "import torch\n",
        "import torchaudio\n",
        "import torch.nn as nn\n",
        "import torch.nn.functional as F\n",
        "\n",
        "import IPython\n",
        "\n",
        "from tortoise.api import TextToSpeech\n",
        "from tortoise.utils.audio import load_audio, load_voice, load_voices\n",
        "\n",
        "# This will download all the models used by Tortoise from the HuggingFace hub.\n",
        "tts = TextToSpeech()"
      ]
    },
    {
      "cell_type": "code",
      "execution_count": null,
      "metadata": {
        "id": "bt_aoxONjfL2",
        "cellView": "form"
      },
      "outputs": [],
      "source": [
        "# This is the text that will be spoken.\n",
        "text = \"Hello, everyone in this video you'll learn all about large language models., Let's start with that autocomplete feature on your mobile phone. Did you ever wonder how it works? \" #@param {type:\"string\"}\n",
        "#@markdown Show code for multiline text input\n",
        "# Here's something for the poetically inclined.. (set text=)\n",
        "\"\"\"\n",
        "Then took the other, as just as fair,\n",
        "And having perhaps the better claim,\n",
        "Because it was grassy and wanted wear;\n",
        "Though as for that the passing there\n",
        "Had worn them really about the same,\"\"\"\n",
        "\n",
        "# Pick a \"preset mode\" to determine quality. Options: {\"ultra_fast\", \"fast\" (default), \"standard\", \"high_quality\"}. See docs in api.py\n",
        "preset = \"fast\" #@param [\"ultra_fast\", \"fast\", \"standard\", \"high_quality\"]"
      ]
    },
    {
      "cell_type": "code",
      "execution_count": null,
      "metadata": {
        "id": "SSleVnRAiEE2",
        "cellView": "form"
      },
      "outputs": [],
      "source": [
        "#@markdown Tortoise will attempt to mimic voices you provide. It comes pre-packaged\n",
        "#@markdown with some voices you might recognize.\n",
        "\n",
        "#@markdown Let's list all the voices available. These are just some random clips I've gathered\n",
        "#@markdown from the internet as well as a few voices from the training dataset.\n",
        "#@markdown Feel free to add your own clips to the voices/ folder.\n",
        "%cd /content/tortoise-tts-fast\n",
        "%ls tortoise/voices\n",
        "import IPython\n",
        "IPython.display.Audio(filename='tortoise/voices/alex/1.wav')"
      ]
    },
    {
      "cell_type": "code",
      "execution_count": null,
      "metadata": {
        "cellView": "form",
        "id": "KEXOKjIvn6NW"
      },
      "outputs": [],
      "source": [
        "#@markdown Pick one of the voices from the output above\n",
        "voice = 'alex' #@param {type:\"string\"}\n",
        "\n",
        "#@markdown Load it and send it through Tortoise.\n",
        "voice_samples, conditioning_latents = load_voice(voice)\n",
        "gen = tts.tts_with_preset(text, voice_samples=voice_samples, conditioning_latents=conditioning_latents, \n",
        "                          preset=preset)\n",
        "torchaudio.save('generated.wav', gen.squeeze(0).cpu(), 24000)\n",
        "IPython.display.Audio('generated.wav')"
      ]
    },
    {
      "cell_type": "code",
      "execution_count": null,
      "metadata": {
        "id": "16Xs2SSC3BXa",
        "cellView": "form"
      },
      "outputs": [],
      "source": [
        "#@markdown Tortoise can also generate speech using a random voice. The voice changes each time you execute this!\n",
        "#@markdown (Note: random voices can be prone to strange utterances)\n",
        "gen = tts.tts_with_preset(text, voice_samples=None, conditioning_latents=None, preset=preset)\n",
        "torchaudio.save('generated.wav', gen.squeeze(0).cpu(), 24000)\n",
        "IPython.display.Audio('generated.wav')"
      ]
    },
    {
      "cell_type": "code",
      "execution_count": null,
      "metadata": {
        "id": "VQgw3KeV8Yqb",
        "cellView": "form"
      },
      "outputs": [],
      "source": [
        "#@markdown Optionally, upload use your own voice by running the next two cells. I recommend\n",
        "#@markdown you upload 2 to 10 audio clips. They must be a WAV file, 6-10 seconds long.\n",
        "CUSTOM_VOICE_NAME = \"new_custom\"\n",
        "\n",
        "import os\n",
        "from google.colab import files\n",
        "\n",
        "custom_voice_folder = f\"tortoise/voices/{CUSTOM_VOICE_NAME}\"\n",
        "try:\n",
        "  os.makedirs(custom_voice_folder)\n",
        "except:\n",
        "  print(\"Something went wrong\")\n",
        "\n",
        "for i, file_data in enumerate(files.upload().values()):\n",
        "  with open(os.path.join(custom_voice_folder, f'{i}.wav'), 'wb') as f:\n",
        "    f.write(file_data)"
      ]
    },
    {
      "cell_type": "code",
      "execution_count": null,
      "metadata": {
        "id": "jJnJwv3R9uWT"
      },
      "outputs": [],
      "source": [
        "# Generate speech with the custotm voice.\n",
        "voice_samples, conditioning_latents = load_voice(CUSTOM_VOICE_NAME)\n",
        "gen = tts.tts_with_preset(text, voice_samples=voice_samples, conditioning_latents=conditioning_latents, \n",
        "                          preset=preset)\n",
        "torchaudio.save(f'generated-{CUSTOM_VOICE_NAME}.wav', gen.squeeze(0).cpu(), 24000)\n",
        "IPython.display.Audio(f'generated-{CUSTOM_VOICE_NAME}.wav')"
      ]
    }
  ],
  "metadata": {
    "accelerator": "GPU",
    "colab": {
      "provenance": [],
      "toc_visible": true,
      "include_colab_link": true
    },
    "kernelspec": {
      "display_name": "Python 3 (ipykernel)",
      "language": "python",
      "name": "python3"
    },
    "language_info": {
      "codemirror_mode": {
        "name": "ipython",
        "version": 3
      },
      "file_extension": ".py",
      "mimetype": "text/x-python",
      "name": "python",
      "nbconvert_exporter": "python",
      "pygments_lexer": "ipython3",
      "version": "3.9.16"
    }
  },
  "nbformat": 4,
  "nbformat_minor": 0
}